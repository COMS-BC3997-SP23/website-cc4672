{
  "nbformat": 4,
  "nbformat_minor": 0,
  "metadata": {
    "colab": {
      "provenance": []
    },
    "kernelspec": {
      "name": "python3",
      "display_name": "Python 3"
    },
    "language_info": {
      "name": "python"
    }
  },
  "cells": [
    {
      "cell_type": "code",
      "execution_count": 2,
      "metadata": {
        "id": "nk7TjctTzsjo",
        "colab": {
          "base_uri": "https://localhost:8080/"
        },
        "outputId": "92cedd75-e931-49d3-ab54-ea01e02e213d"
      },
      "outputs": [
        {
          "output_type": "stream",
          "name": "stdout",
          "text": [
            "Looking in indexes: https://pypi.org/simple, https://us-python.pkg.dev/colab-wheels/public/simple/\n",
            "Collecting PyPDF4\n",
            "  Downloading PyPDF4-1.27.0.tar.gz (63 kB)\n",
            "\u001b[2K     \u001b[90m━━━━━━━━━━━━━━━━━━━━━━━━━━━━━━━━━━━━━━━━\u001b[0m \u001b[32m63.9/63.9 kB\u001b[0m \u001b[31m3.2 MB/s\u001b[0m eta \u001b[36m0:00:00\u001b[0m\n",
            "\u001b[?25h  Preparing metadata (setup.py) ... \u001b[?25l\u001b[?25hdone\n",
            "Building wheels for collected packages: PyPDF4\n",
            "  Building wheel for PyPDF4 (setup.py) ... \u001b[?25l\u001b[?25hdone\n",
            "  Created wheel for PyPDF4: filename=PyPDF4-1.27.0-py3-none-any.whl size=61246 sha256=c3d0e33925d6627fbc167c43a6ff9dbe2b149e2f15b365b3746188ee260f5632\n",
            "  Stored in directory: /root/.cache/pip/wheels/83/cc/14/cb307e5c99235c4497c7895cdb60b4f7ba2a738b6a5fc0d423\n",
            "Successfully built PyPDF4\n",
            "Installing collected packages: PyPDF4\n",
            "Successfully installed PyPDF4-1.27.0\n",
            "Looking in indexes: https://pypi.org/simple, https://us-python.pkg.dev/colab-wheels/public/simple/\n",
            "Requirement already satisfied: PyPDF4 in /usr/local/lib/python3.10/dist-packages (1.27.0)\n"
          ]
        }
      ],
      "source": [
        "!pip install PyPDF4\n",
        "!pip3 install PyPDF4\n"
      ]
    },
    {
      "cell_type": "code",
      "source": [
        "#https://pypdf2.readthedocs.io/en/latest/user/cropping-and-transforming.html\n",
        "#https://github.com/claird/PyPDF4\n",
        "#https://pythonguides.com/pdffilewriter-python-examples/\n"
      ],
      "metadata": {
        "id": "u0IDjhDPzuzV"
      },
      "execution_count": null,
      "outputs": []
    },
    {
      "cell_type": "code",
      "source": [
        "import PyPDF4"
      ],
      "metadata": {
        "id": "1S0_vvfYzu5O"
      },
      "execution_count": 3,
      "outputs": []
    },
    {
      "cell_type": "code",
      "source": [
        "from PyPDF4 import PdfFileMerger\n",
        "from PyPDF4 import PdfFileWriter, PdfFileReader\n"
      ],
      "metadata": {
        "id": "7En_HjFmzu9U"
      },
      "execution_count": 4,
      "outputs": []
    },
    {
      "cell_type": "code",
      "source": [
        "#Merge 2 PDFs\n",
        "merger=PdfFileMerger()\n",
        "file1=\"/content/chapter1.pdf\"\n",
        "file2=\"/content/chapter2.pdf\"\n",
        "\n",
        "for page in [file1,file2]:\n",
        "  merger.append(page)\n",
        "\n",
        "merger.write(\"merged.pdf\")\n",
        "merger.close()"
      ],
      "metadata": {
        "id": "ArbsQ_VJzvAK"
      },
      "execution_count": 5,
      "outputs": []
    },
    {
      "cell_type": "code",
      "source": [
        "#Merge certain pages of a file\n",
        "merger=PdfFileMerger()\n",
        "file1=\"/content/chapter1.pdf\"\n",
        "file2=\"/content/chapter2.pdf\"\n",
        "\n",
        "merger.append(file1,pages=(1,3))\n",
        "merger.append(file2,pages=(1,2))\n",
        "\n",
        "merger.write(\"merged_page.pdf\")\n",
        "merger.close()"
      ],
      "metadata": {
        "id": "_mFmxhvUzvDL"
      },
      "execution_count": 7,
      "outputs": []
    },
    {
      "cell_type": "code",
      "source": [
        "#Merge selected number of pdfs by entering the path for each, and make into 1 \n",
        "merger=PdfFileMerger()\n",
        "number=int(input('Please enter the number of pdfs you want to merge: '))\n",
        "document_list=[]\n",
        "\n",
        "for each in range(number):\n",
        "  document_list.append(input(\"Please enter the path for the document: \"))\n",
        "\n",
        "for file in document_list:\n",
        "  merger.append(file)\n",
        "\n",
        "merger.write('Multiple_pdf.pdf')\n",
        "merger.close()\n"
      ],
      "metadata": {
        "colab": {
          "base_uri": "https://localhost:8080/"
        },
        "id": "btASV06VzvJg",
        "outputId": "31fb4d3c-31b3-480e-d79a-161225731b15"
      },
      "execution_count": null,
      "outputs": [
        {
          "name": "stdout",
          "output_type": "stream",
          "text": [
            "Please enter the number of pdfs you want to merge: 3\n",
            "Please enter the path for the document: /content/Sample_Resume (1).pdf\n",
            "Please enter the path for the document: /content/Action-Verbs-for-Resume.pdf\n",
            "Please enter the path for the document: /content/2018_11_01_CV_Guide.pdf\n"
          ]
        }
      ]
    },
    {
      "cell_type": "code",
      "source": [
        "#Below 2 methods are dealing with selecting certain pages from the pdf into new one\n",
        "read_file=PdfFileReader(\"/content/Top_Korean_100_Words_PDF-1.pdf\")\n",
        "new_file=PdfFileWriter()\n",
        "new_file.addPage(read_file.getPage(1))\n",
        "new_file.addPage(read_file.getPage(2))\n",
        "new_file.addPage(read_file.getPage(4))\n",
        "\n",
        "with open(\"deleted_page1.pdf\",\"wb\") as fp:\n",
        "  new_file.write(fp) "
      ],
      "metadata": {
        "id": "8lqGWx_hzvMR"
      },
      "execution_count": null,
      "outputs": []
    },
    {
      "cell_type": "code",
      "source": [
        "delete=[1,3,5]\n",
        "\n",
        "#file=open(\"/content/Justlearn-Advanced-Spanish-Vocabuary-List.pdf\",\"rb\")\n",
        "#read_file=PdfFileReader(file)\n",
        "read_file=PdfFileReader(\"/content/Justlearn-Advanced-Spanish-Vocabuary-List.pdf\")\n",
        "edit_file=PdfFileWriter()\n",
        "\n",
        "for i in range(len(read_file.pages)):\n",
        "  if i not in delete:\n",
        "    edit_file.addPage(read_file.getPage(i))\n",
        "\n",
        "with open(\"cropped_pdf2.pdf\",\"wb\") as fp:\n",
        "  edit_file.write(fp)\n"
      ],
      "metadata": {
        "id": "ccK8eXwlzvPJ"
      },
      "execution_count": null,
      "outputs": []
    }
  ]
}